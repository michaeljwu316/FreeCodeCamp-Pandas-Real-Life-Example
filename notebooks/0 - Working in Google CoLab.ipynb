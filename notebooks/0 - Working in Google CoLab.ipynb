{
  "nbformat": 4,
  "nbformat_minor": 5,
  "metadata": {
    "kernelspec": {
      "display_name": "Python 3 (ipykernel)",
      "language": "python",
      "name": "python3"
    },
    "language_info": {
      "codemirror_mode": {
        "name": "ipython",
        "version": 3
      },
      "file_extension": ".py",
      "mimetype": "text/x-python",
      "name": "python",
      "nbconvert_exporter": "python",
      "pygments_lexer": "ipython3",
      "version": "3.8.12"
    },
    "colab": {
      "name": "0 - Working in Google CoLab.ipynb",
      "provenance": []
    }
  },
  "cells": [
    {
      "cell_type": "markdown",
      "metadata": {
        "id": "99375bf3"
      },
      "source": [
        "# Jupyter Notebook Basics - The CoLab Version\n",
        "\n",
        "- add a row for code\n",
        "- add a row for markdown\n",
        "- delete a row\n",
        "- move up/down"
      ],
      "id": "99375bf3"
    },
    {
      "cell_type": "markdown",
      "metadata": {
        "id": "de631c0e"
      },
      "source": [
        "# Attach Your Google Drive\n",
        "\n",
        "You will have to do this everytime you open a notebook."
      ],
      "id": "de631c0e"
    },
    {
      "cell_type": "code",
      "metadata": {
        "id": "eb0b624d",
        "outputId": "ea49b49b-2615-457c-ae8d-9665fafc538c",
        "colab": {
          "base_uri": "https://localhost:8080/"
        }
      },
      "source": [
        "from google.colab import drive\n",
        "drive.mount('/content/drive')"
      ],
      "id": "eb0b624d",
      "execution_count": 1,
      "outputs": [
        {
          "output_type": "stream",
          "name": "stdout",
          "text": [
            "Mounted at /content/drive\n"
          ]
        }
      ]
    },
    {
      "cell_type": "markdown",
      "metadata": {
        "id": "b407bc0d"
      },
      "source": [
        "### Upload outbreaks to your google drive\n",
        "- From within the notebook on CoLab:\n",
        "    - Drive > MyDrive > Press the three dots and select 'New Folder'\n",
        "    - Name the folder NLP_data\n",
        "    - Go to the NLP_data folder and upload outbreaks2.csv"
      ],
      "id": "b407bc0d"
    },
    {
      "cell_type": "markdown",
      "metadata": {
        "id": "0249f9c5"
      },
      "source": [
        "# Read from your Google Drive"
      ],
      "id": "0249f9c5"
    },
    {
      "cell_type": "code",
      "metadata": {
        "id": "ac112307"
      },
      "source": [
        "import pandas as pd\n",
        "import seaborn as sns"
      ],
      "id": "ac112307",
      "execution_count": 2,
      "outputs": []
    },
    {
      "cell_type": "markdown",
      "metadata": {
        "id": "372758a1"
      },
      "source": [
        "In the files directory: \n",
        "- go to the file you want to load\n",
        "- click on the three dots and select 'Copy path'\n",
        "- paste the path into the read statement"
      ],
      "id": "372758a1"
    },
    {
      "cell_type": "code",
      "metadata": {
        "id": "028d9af9",
        "outputId": "957e18d2-d838-4514-a614-5ff9ec06bae3",
        "colab": {
          "base_uri": "https://localhost:8080/",
          "height": 313
        }
      },
      "source": [
        "outbreaks = pd.read_csv('/content/drive/MyDrive/NLP_data/outbreaks2.csv')\n",
        "outbreaks.head()"
      ],
      "id": "028d9af9",
      "execution_count": 6,
      "outputs": [
        {
          "output_type": "execute_result",
          "data": {
            "text/html": [
              "<div>\n",
              "<style scoped>\n",
              "    .dataframe tbody tr th:only-of-type {\n",
              "        vertical-align: middle;\n",
              "    }\n",
              "\n",
              "    .dataframe tbody tr th {\n",
              "        vertical-align: top;\n",
              "    }\n",
              "\n",
              "    .dataframe thead th {\n",
              "        text-align: right;\n",
              "    }\n",
              "</style>\n",
              "<table border=\"1\" class=\"dataframe\">\n",
              "  <thead>\n",
              "    <tr style=\"text-align: right;\">\n",
              "      <th></th>\n",
              "      <th>1998</th>\n",
              "      <th>January</th>\n",
              "      <th>California</th>\n",
              "      <th>Restaurant</th>\n",
              "      <th>Unnamed: 4</th>\n",
              "      <th>Unnamed: 5</th>\n",
              "      <th>Unnamed: 6</th>\n",
              "      <th>Unnamed: 7</th>\n",
              "      <th>Unnamed: 8</th>\n",
              "      <th>20</th>\n",
              "      <th>0</th>\n",
              "      <th>0.1</th>\n",
              "    </tr>\n",
              "  </thead>\n",
              "  <tbody>\n",
              "    <tr>\n",
              "      <th>0</th>\n",
              "      <td>1998</td>\n",
              "      <td>January</td>\n",
              "      <td>California</td>\n",
              "      <td>NaN</td>\n",
              "      <td>Custard</td>\n",
              "      <td>NaN</td>\n",
              "      <td>NaN</td>\n",
              "      <td>NaN</td>\n",
              "      <td>NaN</td>\n",
              "      <td>112</td>\n",
              "      <td>0.0</td>\n",
              "      <td>0.0</td>\n",
              "    </tr>\n",
              "    <tr>\n",
              "      <th>1</th>\n",
              "      <td>1998</td>\n",
              "      <td>January</td>\n",
              "      <td>California</td>\n",
              "      <td>Restaurant</td>\n",
              "      <td>NaN</td>\n",
              "      <td>NaN</td>\n",
              "      <td>NaN</td>\n",
              "      <td>NaN</td>\n",
              "      <td>NaN</td>\n",
              "      <td>35</td>\n",
              "      <td>0.0</td>\n",
              "      <td>0.0</td>\n",
              "    </tr>\n",
              "    <tr>\n",
              "      <th>2</th>\n",
              "      <td>1998</td>\n",
              "      <td>January</td>\n",
              "      <td>California</td>\n",
              "      <td>Restaurant</td>\n",
              "      <td>Fish, Ahi</td>\n",
              "      <td>NaN</td>\n",
              "      <td>Scombroid toxin</td>\n",
              "      <td>NaN</td>\n",
              "      <td>Confirmed</td>\n",
              "      <td>4</td>\n",
              "      <td>0.0</td>\n",
              "      <td>0.0</td>\n",
              "    </tr>\n",
              "    <tr>\n",
              "      <th>3</th>\n",
              "      <td>1998</td>\n",
              "      <td>January</td>\n",
              "      <td>California</td>\n",
              "      <td>Private Home/Residence</td>\n",
              "      <td>Lasagna, Unspecified; Eggs, Other</td>\n",
              "      <td>NaN</td>\n",
              "      <td>Salmonella enterica</td>\n",
              "      <td>Enteritidis</td>\n",
              "      <td>Confirmed</td>\n",
              "      <td>26</td>\n",
              "      <td>3.0</td>\n",
              "      <td>0.0</td>\n",
              "    </tr>\n",
              "    <tr>\n",
              "      <th>4</th>\n",
              "      <td>1998</td>\n",
              "      <td>January</td>\n",
              "      <td>California</td>\n",
              "      <td>Restaurant</td>\n",
              "      <td>NaN</td>\n",
              "      <td>NaN</td>\n",
              "      <td>Shigella boydii</td>\n",
              "      <td>NaN</td>\n",
              "      <td>Confirmed</td>\n",
              "      <td>25</td>\n",
              "      <td>3.0</td>\n",
              "      <td>0.0</td>\n",
              "    </tr>\n",
              "  </tbody>\n",
              "</table>\n",
              "</div>"
            ],
            "text/plain": [
              "   1998  January  California              Restaurant  ... Unnamed: 8   20    0  0.1\n",
              "0  1998  January  California                     NaN  ...        NaN  112  0.0  0.0\n",
              "1  1998  January  California              Restaurant  ...        NaN   35  0.0  0.0\n",
              "2  1998  January  California              Restaurant  ...  Confirmed    4  0.0  0.0\n",
              "3  1998  January  California  Private Home/Residence  ...  Confirmed   26  3.0  0.0\n",
              "4  1998  January  California              Restaurant  ...  Confirmed   25  3.0  0.0\n",
              "\n",
              "[5 rows x 12 columns]"
            ]
          },
          "metadata": {},
          "execution_count": 6
        }
      ]
    },
    {
      "cell_type": "markdown",
      "metadata": {
        "id": "694d4000"
      },
      "source": [
        "# Read from Github"
      ],
      "id": "694d4000"
    },
    {
      "cell_type": "code",
      "metadata": {
        "id": "00cc79ea"
      },
      "source": [
        "latuda = pd.read_csv('https://raw.githubusercontent.com/jimcody2014/nlp_cdc/main/data/latuda.csv')\n",
        "latuda.head()"
      ],
      "id": "00cc79ea",
      "execution_count": null,
      "outputs": []
    },
    {
      "cell_type": "markdown",
      "metadata": {
        "id": "c3321a46"
      },
      "source": [
        "# Use your Kaggle API Token to get data from Kaggle"
      ],
      "id": "c3321a46"
    },
    {
      "cell_type": "code",
      "metadata": {
        "id": "f54d775d"
      },
      "source": [
        "from google.colab import files\n",
        "\n",
        "## Upload your kaggle json file (API Token)\n",
        "files.upload()\n",
        "\n",
        "!mkdir ~/.kaggle            # The exclamation point means run this command line code\n",
        "\n",
        "!cp kaggle.json ~/.kaggle/\n",
        "\n",
        "!chmod 600 ~/.kaggle/kaggle.json"
      ],
      "id": "f54d775d",
      "execution_count": null,
      "outputs": []
    },
    {
      "cell_type": "markdown",
      "metadata": {
        "id": "b259c3a4"
      },
      "source": [
        "### Get the Kaggle data"
      ],
      "id": "b259c3a4"
    },
    {
      "cell_type": "code",
      "metadata": {
        "id": "1bae4bad"
      },
      "source": [
        "!kaggle datasets download -d nicapotato/womens-ecommerce-clothing-reviews"
      ],
      "id": "1bae4bad",
      "execution_count": null,
      "outputs": []
    },
    {
      "cell_type": "code",
      "metadata": {
        "id": "fccf9a94"
      },
      "source": [
        "!ls"
      ],
      "id": "fccf9a94",
      "execution_count": null,
      "outputs": []
    },
    {
      "cell_type": "markdown",
      "metadata": {
        "id": "993e9d5b"
      },
      "source": [
        "### Unzip the Kaggle data\n",
        "\n",
        "This will unzip the file into a new folder called data."
      ],
      "id": "993e9d5b"
    },
    {
      "cell_type": "code",
      "metadata": {
        "id": "f5d4eaed"
      },
      "source": [
        "!mkdir data\n",
        "\n",
        "!unzip womens-ecommerce-clothing-reviews -d data"
      ],
      "id": "f5d4eaed",
      "execution_count": null,
      "outputs": []
    },
    {
      "cell_type": "code",
      "metadata": {
        "id": "6d28e3e9"
      },
      "source": [
        "!ls -l data/"
      ],
      "id": "6d28e3e9",
      "execution_count": null,
      "outputs": []
    },
    {
      "cell_type": "markdown",
      "metadata": {
        "id": "fe760a6c"
      },
      "source": [
        "### Use the Kaggle data"
      ],
      "id": "fe760a6c"
    },
    {
      "cell_type": "code",
      "metadata": {
        "id": "ce5128fb"
      },
      "source": [
        "reviews = pd.read_csv('/content/data/Womens Clothing E-Commerce Reviews.csv')\n",
        "reviews.head()"
      ],
      "id": "ce5128fb",
      "execution_count": null,
      "outputs": []
    },
    {
      "cell_type": "markdown",
      "metadata": {
        "id": "c1235521"
      },
      "source": [
        "# Exercise - 15 minutes\n",
        "- Upload the Health-News-Tweets.zip file to your NLP_data folder\n",
        "- Inside NLP_data create a new folder named health_tweets\n",
        "- From within this notebook, unzip Health-News-Tweets into health_tweets"
      ],
      "id": "c1235521"
    },
    {
      "cell_type": "markdown",
      "metadata": {
        "id": "9a82d45b"
      },
      "source": [
        "# Save this notebook to Google Drive\n",
        "\n",
        "The notebook will be placed in a folder named Colab Notebooks"
      ],
      "id": "9a82d45b"
    },
    {
      "cell_type": "code",
      "metadata": {
        "id": "7464dd95"
      },
      "source": [
        ""
      ],
      "id": "7464dd95",
      "execution_count": null,
      "outputs": []
    },
    {
      "cell_type": "code",
      "metadata": {
        "id": "cd2fa6ca"
      },
      "source": [
        ""
      ],
      "id": "cd2fa6ca",
      "execution_count": null,
      "outputs": []
    }
  ]
}